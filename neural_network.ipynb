{
 "cells": [
  {
   "cell_type": "code",
   "execution_count": 4,
   "metadata": {},
   "outputs": [],
   "source": [
    "import math\n",
    "import random\n",
    "import numpy as np\n",
    "import pandas as pd\n",
    "import matplotlib.pyplot as plt\n",
    "from sklearn.neural_network import MLPRegressor"
   ]
  },
  {
   "cell_type": "code",
   "execution_count": 14,
   "metadata": {},
   "outputs": [],
   "source": [
    "data = pd.read_csv(\"Airplane.csv\")\n",
    "# خواندن فایل\n",
    "\n",
    "data = data.dropna()  # حذف دیتا های خالی\n",
    "\n",
    "# تبدیل مقادیر غیر عددی به عددی\n",
    "data[\"satisfaction\"] = data[\"satisfaction\"].map(\n",
    "    {\"neutral or dissatisfied\": 0, \"satisfied\": 1}).astype(int)\n",
    "data[\"Customer Type\"] = data[\"Customer Type\"].map(\n",
    "    {\"disloyal Customer\": 0, \"Loyal Customer\": 1}).astype(int)\n",
    "data[\"Type of Travel\"] = data[\"Type of Travel\"].map(\n",
    "    {\"Personal Travel\": 0, \"Business travel\": 1}).astype(int)\n",
    "data[\"Gender\"] = data[\"Gender\"].map({\"Female\": 0, \"Male\": 1}).astype(int)\n",
    "data[\"Class\"] = data[\"Class\"].map(\n",
    "    {\"Eco\": 0, \"Eco Plus\": 1, \"Business\": 2}).astype(int)\n",
    "\n",
    "# دسته بندی داده های پیوسته\n",
    "# Arrival Delay in Minutes\n",
    "data.loc[data[\"Arrival Delay in Minutes\"] <= 5, \"Arrival Delay in Minutes\"] = 0\n",
    "data.loc[(data[\"Arrival Delay in Minutes\"] > 5),\n",
    "         \"Arrival Delay in Minutes\"] = 1\n",
    "\n",
    "# Age\n",
    "data.loc[data[\"Age\"] <= 20, \"Age\"] = 0\n",
    "data.loc[(data[\"Age\"] > 20) & (data[\"Age\"] <= 39), \"Age\"] = 1\n",
    "data.loc[(data[\"Age\"] > 39) & (data[\"Age\"] <= 60), \"Age\"] = 2\n",
    "data.loc[(data[\"Age\"] > 60), \"Age\"] = 3\n",
    "\n",
    "# Cleanliness\n",
    "data.loc[data[\"Cleanliness\"] < 3, \"Cleanliness\"] = 0\n",
    "data.loc[data[\"Cleanliness\"] == 3, \"Cleanliness\"] = 1\n",
    "data.loc[(data[\"Cleanliness\"] > 3), \"Cleanliness\"] = 2\n",
    "\n",
    "# Flight Distance\n",
    "data.loc[data[\"Flight Distance\"] <= 1000, \"Flight Distance\"] = 0\n",
    "data.loc[(data[\"Flight Distance\"] > 1000) & (\n",
    "    data[\"Flight Distance\"] <= 2000), \"Flight Distance\"] = 1\n",
    "data.loc[(data[\"Flight Distance\"] > 2000) & (\n",
    "    data[\"Flight Distance\"] <= 3000), \"Flight Distance\"] = 2\n",
    "data.loc[(data[\"Flight Distance\"] > 3000), \"Flight Distance\"] = 3\n",
    "\n",
    "# Departure Delay in Minutes\n",
    "data.loc[data[\"Departure Delay in Minutes\"]\n",
    "         <= 5, \"Departure Delay in Minutes\"] = 0\n",
    "data.loc[(data[\"Departure Delay in Minutes\"] > 5) & (\n",
    "    data[\"Departure Delay in Minutes\"] <= 25), \"Departure Delay in Minutes\"] = 1\n",
    "data.loc[(data[\"Departure Delay in Minutes\"] > 25),\n",
    "         \"Departure Delay in Minutes\"] = 2\n",
    "\n",
    "# انتخاب 10000 داده ابتدایی به عنوان داده تست\n",
    "test = data.tail(10000)\n",
    "\n",
    "# حذف 10000 داده ابتدایی از دیتا فریم\n",
    "data = data.head(90000)\n",
    "\n",
    "# جدا سازی داده های {satisfied و neutral or dissatisfied}\n",
    "satisfaction_0 = data[data['satisfaction'] == 0]\n",
    "satisfaction_1 = data[data['satisfaction'] == 1]\n",
    "random.seed(43)\n",
    "\n",
    "# انتخاب تعداد 50 داده رندوم از هر گروه\n",
    "satisfaction_0_random = random.sample(satisfaction_0.index.tolist(), 10000)\n",
    "satisfaction_1_random = random.sample(satisfaction_1.index.tolist(), 10000)\n",
    "\n",
    "# اتصال این دو دسته دیتا\n",
    "data = pd.concat([data.loc[satisfaction_0_random],\n",
    "                 data.loc[satisfaction_1_random]])\n",
    "\n",
    "# حذف ستون های اضافه\n",
    "data = data.drop([\"index\", \"id\", \"Gender\"], axis=1)\n",
    "test = test.drop([\"index\", \"id\", \"Gender\"], axis=1)\n",
    "# جنسیت به دلیل نداشتن تاثیر از داده ها حذف شده"
   ]
  },
  {
   "cell_type": "code",
   "execution_count": 12,
   "metadata": {},
   "outputs": [
    {
     "name": "stdout",
     "output_type": "stream",
     "text": [
      "Mean Squared Error: 0.04765577012398413\n"
     ]
    }
   ],
   "source": [
    "from sklearn.neural_network import MLPRegressor\n",
    "from sklearn.model_selection import train_test_split\n",
    "from sklearn.metrics import mean_squared_error\n",
    "from sklearn.preprocessing import StandardScaler\n",
    "\n",
    "y = data['satisfaction'];\n",
    "x = data.drop([\"satisfaction\"], axis=1);\n",
    "\n",
    "# تقسیم داده به دو بخش آموزش و آزمون\n",
    "X_train, X_test, y_train, y_test = train_test_split(\n",
    "    x, y, test_size=0.2, random_state=42)\n",
    "\n",
    "# نرمال‌سازی داده‌ها\n",
    "scaler = StandardScaler()\n",
    "X_train_scaled = scaler.fit_transform(X_train)\n",
    "X_test_scaled = scaler.transform(X_test)\n",
    "\n",
    "# ساخت و آموزش مدل\n",
    "model = MLPRegressor(hidden_layer_sizes=(100, 50),\n",
    "                     max_iter=500, random_state=42)\n",
    "model.fit(X_train_scaled, y_train)\n",
    "\n",
    "# ارزیابی مدل\n",
    "y_pred = model.predict(X_test_scaled)\n",
    "mse = mean_squared_error(y_test, y_pred)\n",
    "print(f'Mean Squared Error: {mse}')\n"
   ]
  },
  {
   "cell_type": "code",
   "execution_count": 15,
   "metadata": {},
   "outputs": [
    {
     "name": "stdout",
     "output_type": "stream",
     "text": [
      "Accuracy: 94.60%\n"
     ]
    }
   ],
   "source": [
    "from sklearn.metrics import accuracy_score\n",
    "\n",
    "\n",
    "def compare_y_test_and_y_pred(y_test, y_pred, threshold=0.5):\n",
    "    # تبدیل مقادیر پیش‌بینی به دسته‌بندی\n",
    "    y_pred_class = (y_pred > threshold).astype(int)\n",
    "\n",
    "    # محاسبه دقت\n",
    "    accuracy = accuracy_score(y_test, y_pred_class)\n",
    "    print(f'Accuracy: {accuracy * 100:.2f}%')\n",
    "\n",
    "\n",
    "# مثال استفاده\n",
    "compare_y_test_and_y_pred(y_test, y_pred)"
   ]
  }
 ],
 "metadata": {
  "kernelspec": {
   "display_name": "Python 3",
   "language": "python",
   "name": "python3"
  },
  "language_info": {
   "codemirror_mode": {
    "name": "ipython",
    "version": 3
   },
   "file_extension": ".py",
   "mimetype": "text/x-python",
   "name": "python",
   "nbconvert_exporter": "python",
   "pygments_lexer": "ipython3",
   "version": "3.12.0"
  }
 },
 "nbformat": 4,
 "nbformat_minor": 2
}
