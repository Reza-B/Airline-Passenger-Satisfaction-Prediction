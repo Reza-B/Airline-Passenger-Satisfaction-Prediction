{
 "cells": [
  {
   "cell_type": "markdown",
   "metadata": {},
   "source": [
    "# Neural Network Implementation"
   ]
  },
  {
   "cell_type": "markdown",
   "metadata": {},
   "source": [
    "# Project Description"
   ]
  },
  {
   "cell_type": "markdown",
   "metadata": {},
   "source": [
    "The project aims to analyze and predict passenger satisfaction with their airline travel experience using machine learning techniques. It utilizes a dataset containing various attributes related to passengers' demographics, travel preferences, flight details, and ratings for different services provided during the flight. By leveraging this dataset, the project seeks to understand the factors that influence passenger satisfaction and develop predictive models to forecast whether a passenger will be satisfied or dissatisfied based on their characteristics and flight-related factors.\n",
    "\n",
    "The project involves several steps, including data preprocessing, exploratory data analysis (EDA), feature engineering, model selection, training, and evaluation. Machine learning algorithms such as decision trees are initially explored. Furthermore, neural networks are introduced to explore their potential for capturing complex patterns in the data that may lead to improved prediction accuracy compared to traditional models."
   ]
  },
  {
   "cell_type": "markdown",
   "metadata": {},
   "source": [
    "# Imports"
   ]
  },
  {
   "cell_type": "code",
   "execution_count": 64,
   "metadata": {},
   "outputs": [],
   "source": [
    "import math\n",
    "import random\n",
    "import numpy as np\n",
    "import pandas as pd\n",
    "import matplotlib.pyplot as plt\n",
    "from sklearn.neural_network import MLPRegressor\n",
    "from sklearn.model_selection import train_test_split\n",
    "from sklearn.metrics import mean_squared_error\n",
    "from sklearn.preprocessing import StandardScaler\n",
    "from sklearn.metrics import accuracy_score"
   ]
  },
  {
   "cell_type": "markdown",
   "metadata": {},
   "source": [
    "# Clean Dataset"
   ]
  },
  {
   "cell_type": "markdown",
   "metadata": {},
   "source": [
    "## Airplane\n",
    "\n",
    "The CSV file contains detailed information about airline passengers' travel experiences and satisfaction levels. Each row in the CSV file represents a single passenger's feedback, while the columns represent different attributes and ratings associated with their travel experience. Key attributes include passenger demographics (e.g., gender, age), travel details (e.g., flight distance, type of travel), and ratings for various services provided during the flight (e.g., seat comfort, inflight entertainment). Additionally, the file includes columns for departure and arrival delays and the overall satisfaction level of passengers.\n",
    "\n",
    "The dataset serves as the primary source of information for the project, providing valuable insights into passenger preferences, behaviors, and satisfaction levels. It is used for exploratory data analysis, feature engineering, model training, and evaluation to develop effective predictive models for understanding and predicting passenger satisfaction with airline travel."
   ]
  },
  {
   "cell_type": "markdown",
   "metadata": {},
   "source": [
    "- Read csv file"
   ]
  },
  {
   "cell_type": "code",
   "execution_count": 65,
   "metadata": {},
   "outputs": [],
   "source": [
    "data = pd.read_csv(\"csv/Airplane.csv\")"
   ]
  },
  {
   "cell_type": "markdown",
   "metadata": {},
   "source": [
    "- Dropping missing data"
   ]
  },
  {
   "cell_type": "code",
   "execution_count": 66,
   "metadata": {},
   "outputs": [],
   "source": [
    "data = data.dropna()"
   ]
  },
  {
   "cell_type": "markdown",
   "metadata": {},
   "source": [
    "- Converting non-numeric values to numeric"
   ]
  },
  {
   "cell_type": "code",
   "execution_count": 67,
   "metadata": {},
   "outputs": [],
   "source": [
    "data[\"satisfaction\"] = data[\"satisfaction\"].map(\n",
    "    {\"neutral or dissatisfied\": 0, \"satisfied\": 1}).astype(int)\n",
    "data[\"Customer Type\"] = data[\"Customer Type\"].map(\n",
    "    {\"disloyal Customer\": 0, \"Loyal Customer\": 1}).astype(int)\n",
    "data[\"Type of Travel\"] = data[\"Type of Travel\"].map(\n",
    "    {\"Personal Travel\": 0, \"Business travel\": 1}).astype(int)\n",
    "data[\"Gender\"] = data[\"Gender\"].map({\"Female\": 0, \"Male\": 1}).astype(int)\n",
    "data[\"Class\"] = data[\"Class\"].map(\n",
    "    {\"Eco\": 0, \"Eco Plus\": 1, \"Business\": 2}).astype(int)"
   ]
  },
  {
   "cell_type": "markdown",
   "metadata": {},
   "source": [
    "- Categorizing continuous data"
   ]
  },
  {
   "cell_type": "markdown",
   "metadata": {},
   "source": [
    "- -- Arrival Delay in Minutes"
   ]
  },
  {
   "cell_type": "code",
   "execution_count": 68,
   "metadata": {},
   "outputs": [],
   "source": [
    "data.loc[data[\"Arrival Delay in Minutes\"] <= 5, \"Arrival Delay in Minutes\"] = 0\n",
    "data.loc[(data[\"Arrival Delay in Minutes\"] > 5),\n",
    "         \"Arrival Delay in Minutes\"] = 1"
   ]
  },
  {
   "cell_type": "markdown",
   "metadata": {},
   "source": [
    "- -- Age"
   ]
  },
  {
   "cell_type": "code",
   "execution_count": 69,
   "metadata": {},
   "outputs": [],
   "source": [
    "data.loc[data[\"Age\"] <= 20, \"Age\"] = 0\n",
    "data.loc[(data[\"Age\"] > 20) & (data[\"Age\"] <= 39), \"Age\"] = 1\n",
    "data.loc[(data[\"Age\"] > 39) & (data[\"Age\"] <= 60), \"Age\"] = 2\n",
    "data.loc[(data[\"Age\"] > 60), \"Age\"] = 3"
   ]
  },
  {
   "cell_type": "markdown",
   "metadata": {},
   "source": [
    "- -- Cleanliness"
   ]
  },
  {
   "cell_type": "code",
   "execution_count": 70,
   "metadata": {},
   "outputs": [],
   "source": [
    "data.loc[data[\"Cleanliness\"] < 3, \"Cleanliness\"] = 0\n",
    "data.loc[data[\"Cleanliness\"] == 3, \"Cleanliness\"] = 1\n",
    "data.loc[(data[\"Cleanliness\"] > 3), \"Cleanliness\"] = 2"
   ]
  },
  {
   "cell_type": "markdown",
   "metadata": {},
   "source": [
    "- -- Flight Distance"
   ]
  },
  {
   "cell_type": "code",
   "execution_count": 71,
   "metadata": {},
   "outputs": [],
   "source": [
    "data.loc[data[\"Flight Distance\"] <= 1000, \"Flight Distance\"] = 0\n",
    "data.loc[(data[\"Flight Distance\"] > 1000) & (\n",
    "    data[\"Flight Distance\"] <= 2000), \"Flight Distance\"] = 1\n",
    "data.loc[(data[\"Flight Distance\"] > 2000) & (\n",
    "    data[\"Flight Distance\"] <= 3000), \"Flight Distance\"] = 2\n",
    "data.loc[(data[\"Flight Distance\"] > 3000), \"Flight Distance\"] = 3"
   ]
  },
  {
   "cell_type": "markdown",
   "metadata": {},
   "source": [
    "- -- Departure Delay in Minutes"
   ]
  },
  {
   "cell_type": "code",
   "execution_count": 72,
   "metadata": {},
   "outputs": [],
   "source": [
    "data.loc[data[\"Departure Delay in Minutes\"]\n",
    "         <= 5, \"Departure Delay in Minutes\"] = 0\n",
    "data.loc[(data[\"Departure Delay in Minutes\"] > 5) & (\n",
    "    data[\"Departure Delay in Minutes\"] <= 25), \"Departure Delay in Minutes\"] = 1\n",
    "data.loc[(data[\"Departure Delay in Minutes\"] > 25),\n",
    "         \"Departure Delay in Minutes\"] = 2"
   ]
  },
  {
   "cell_type": "markdown",
   "metadata": {},
   "source": [
    "- Selecting the last 10,000 rows as test data"
   ]
  },
  {
   "cell_type": "code",
   "execution_count": 73,
   "metadata": {},
   "outputs": [],
   "source": [
    "test = data.tail(10000)"
   ]
  },
  {
   "cell_type": "markdown",
   "metadata": {},
   "source": [
    "- Removing the last 10,000 rows from the data frame"
   ]
  },
  {
   "cell_type": "code",
   "execution_count": 74,
   "metadata": {},
   "outputs": [],
   "source": [
    "data = data.head(90000)"
   ]
  },
  {
   "cell_type": "markdown",
   "metadata": {},
   "source": [
    "- Separating data for satisfied and neutral or dissatisfied"
   ]
  },
  {
   "cell_type": "code",
   "execution_count": 75,
   "metadata": {},
   "outputs": [],
   "source": [
    "satisfaction_0 = data[data['satisfaction'] == 0]\n",
    "satisfaction_1 = data[data['satisfaction'] == 1]\n",
    "random.seed(43)"
   ]
  },
  {
   "cell_type": "markdown",
   "metadata": {},
   "source": [
    "- Selecting 10,000 random samples from each group"
   ]
  },
  {
   "cell_type": "code",
   "execution_count": 76,
   "metadata": {},
   "outputs": [],
   "source": [
    "satisfaction_0_random = random.sample(satisfaction_0.index.tolist(), 10000)\n",
    "satisfaction_1_random = random.sample(satisfaction_1.index.tolist(), 10000)"
   ]
  },
  {
   "cell_type": "markdown",
   "metadata": {},
   "source": [
    "- Combining these two data sets"
   ]
  },
  {
   "cell_type": "code",
   "execution_count": 77,
   "metadata": {},
   "outputs": [],
   "source": [
    "data = pd.concat([data.loc[satisfaction_0_random],\n",
    "                 data.loc[satisfaction_1_random]])"
   ]
  },
  {
   "cell_type": "markdown",
   "metadata": {},
   "source": [
    "- Dropping unnecessary columns"
   ]
  },
  {
   "cell_type": "code",
   "execution_count": 78,
   "metadata": {},
   "outputs": [],
   "source": [
    "data = data.drop([\"index\", \"id\", \"Gender\"], axis=1)\n",
    "test = test.drop([\"index\", \"id\", \"Gender\"], axis=1)"
   ]
  },
  {
   "cell_type": "markdown",
   "metadata": {},
   "source": [
    "- show clean data"
   ]
  },
  {
   "cell_type": "code",
   "execution_count": 79,
   "metadata": {},
   "outputs": [],
   "source": [
    "# Data is not shown due to large size\n",
    "# data"
   ]
  },
  {
   "cell_type": "code",
   "execution_count": 80,
   "metadata": {},
   "outputs": [
    {
     "name": "stdout",
     "output_type": "stream",
     "text": [
      "   Age  satisfaction\n",
      "0    0      0.245791\n",
      "1    1      0.456366\n",
      "2    2      0.634953\n",
      "3    3      0.253857\n"
     ]
    }
   ],
   "source": [
    "print(data[[\"Age\",\"satisfaction\"]].groupby([\"Age\"],as_index=False).mean());"
   ]
  },
  {
   "cell_type": "markdown",
   "metadata": {},
   "source": [
    "# Neural Network Implementation"
   ]
  },
  {
   "cell_type": "markdown",
   "metadata": {},
   "source": [
    "#### Data Preparation:\n",
    "1. **Target and Features Extraction**: The target variable `satisfaction` is extracted from the dataset `data`, while the feature variables are obtained by dropping the `satisfaction` column from `data`.\n",
    "\n",
    "2. **Train-Test Split**: The dataset is split into training (`X_train`, `y_train`) and testing (`X_test`, `y_test`) sets using `train_test_split` from `sklearn.model_selection`. Here, 80% of the data is used for training (`X_train`, `y_train`) and 20% for testing (`X_test`, `y_test`). The `random_state` parameter ensures reproducibility of results.\n"
   ]
  },
  {
   "cell_type": "code",
   "execution_count": 81,
   "metadata": {},
   "outputs": [],
   "source": [
    "y = data['satisfaction']\n",
    "x = data.drop([\"satisfaction\"], axis=1)\n",
    "\n",
    "# Split data into training and testing sets\n",
    "X_train, X_test, y_train, y_test = train_test_split(\n",
    "    x, y, test_size=0.2, random_state=42)"
   ]
  },
  {
   "cell_type": "markdown",
   "metadata": {},
   "source": [
    "#### Data Normalization:\n",
    "3. **Normalization**: Standardization of the feature data is performed using `StandardScaler` from `sklearn.preprocessing`. This step ensures that all features are on the same scale, which is important for the neural network model to converge efficiently during training."
   ]
  },
  {
   "cell_type": "code",
   "execution_count": 82,
   "metadata": {},
   "outputs": [],
   "source": [
    "scaler = StandardScaler()\n",
    "X_train_scaled = scaler.fit_transform(X_train)\n",
    "X_test_scaled = scaler.transform(X_test)"
   ]
  },
  {
   "cell_type": "markdown",
   "metadata": {},
   "source": [
    "#### Model Building and Training:\n",
    "4. **MLPRegressor Model**: An MLPRegressor model is initialized with two hidden layers containing 100 and 50 neurons respectively (`hidden_layer_sizes=(100, 50)`). `max_iter=500` specifies the maximum number of iterations for training, and `random_state=42` ensures reproducibility.\n",
    "\n",
    "5. **Model Training**: The model is trained on the scaled training data (`X_train_scaled`, `y_train`) using the `fit` method."
   ]
  },
  {
   "cell_type": "markdown",
   "metadata": {},
   "source": [
    "model = MLPRegressor(hidden_layer_sizes=(100, 50),\n",
    "                     max_iter=500, random_state=42)\n",
    "model.fit(X_train_scaled, y_train)"
   ]
  },
  {
   "cell_type": "markdown",
   "metadata": {},
   "source": [
    "#### Model Evaluation:\n",
    "6. **Evaluation Metrics**: After training, the model predicts the satisfaction scores (`y_pred`) for the test set (`X_test_scaled`). The Mean Squared Error (MSE) is computed between the actual satisfaction scores (`y_test`) and the predicted scores (`y_pred`) using `mean_squared_error` from `sklearn.metrics`. Lower MSE values indicate better model performance.\n"
   ]
  },
  {
   "cell_type": "code",
   "execution_count": 83,
   "metadata": {},
   "outputs": [
    {
     "name": "stdout",
     "output_type": "stream",
     "text": [
      "Mean Squared Error: 0.04765577012398413\n"
     ]
    }
   ],
   "source": [
    "y_pred = model.predict(X_test_scaled)\n",
    "mse = mean_squared_error(y_test, y_pred)\n",
    "print(f'Mean Squared Error: {mse}')"
   ]
  },
  {
   "cell_type": "markdown",
   "metadata": {},
   "source": [
    "#### Conclusion:\n",
    "This script demonstrates the process of building an MLPRegressor model for predicting passenger satisfaction based on airline travel data. It covers data preparation steps such as feature extraction, train-test split, and normalization, followed by model training and evaluation. The MSE provides a quantitative measure of how well the model predicts satisfaction scores on unseen data, aiding in assessing its effectiveness and guiding potential model improvements."
   ]
  },
  {
   "cell_type": "markdown",
   "metadata": {},
   "source": [
    "#### Function `compare_y_test_and_y_pred`\n",
    "\n",
    "1. **Purpose**: This function compares the predicted values (`y_pred`) with the actual values (`y_test`) and calculates the accuracy of a binary classification task based on a specified threshold.\n",
    "\n",
    "2. **Parameters**:\n",
    "   - `y_test`: The actual target values from the test set.\n",
    "   - `y_pred`: The predicted target values from the model.\n",
    "   - `threshold`: (Optional) Threshold value used to convert predicted probabilities to binary predictions. Defaults to 0.5.\n",
    "\n",
    "3. **Steps**:\n",
    "   - **Convert Predictions**: Predicted values (`y_pred`) are converted into binary class labels (`y_pred_class`) by comparing each prediction against `threshold` and converting values greater than `threshold` to 1 and less than or equal to `threshold` to 0.\n",
    "   \n",
    "   - **Calculate Accuracy**: Using `accuracy_score` from `sklearn.metrics`, the accuracy of the binary classification is computed by comparing `y_test` (actual values) with `y_pred_class` (predicted values).\n",
    "\n",
    "4. **Output**: The function prints the calculated accuracy as a percentage with two decimal places.\n"
   ]
  },
  {
   "cell_type": "code",
   "execution_count": 84,
   "metadata": {},
   "outputs": [],
   "source": [
    "def compare_y_test_and_y_pred(y_test, y_pred, threshold=0.5):\n",
    "    # Convert predicted values to binary classification\n",
    "    y_pred_class = (y_pred > threshold).astype(int)\n",
    "\n",
    "    # Calculate accuracy\n",
    "    accuracy = accuracy_score(y_test, y_pred_class)\n",
    "    print(f'Accuracy: {accuracy * 100:.2f}%')"
   ]
  },
  {
   "cell_type": "markdown",
   "metadata": {},
   "source": [
    "#### Example Usage\n",
    "\n",
    "- `compare_y_test_and_y_pred(y_test, y_pred)`: This function call compares the predicted satisfaction scores (`y_pred`) with the actual satisfaction scores (`y_test`) using a default threshold of 0.5. It then prints the accuracy of the binary classification task based on these predictions.\n",
    "\n",
    "This function is useful for evaluating the performance of models that predict binary outcomes, such as predicting passenger satisfaction (satisfied or dissatisfied) in this project. Adjusting the `threshold` parameter allows for exploring different trade-offs between sensitivity and specificity in the classification predictions."
   ]
  },
  {
   "cell_type": "code",
   "execution_count": 85,
   "metadata": {},
   "outputs": [
    {
     "name": "stdout",
     "output_type": "stream",
     "text": [
      "Accuracy: 94.60%\n"
     ]
    }
   ],
   "source": [
    "compare_y_test_and_y_pred(y_test, y_pred)"
   ]
  }
 ],
 "metadata": {
  "kernelspec": {
   "display_name": "Python 3",
   "language": "python",
   "name": "python3"
  },
  "language_info": {
   "codemirror_mode": {
    "name": "ipython",
    "version": 3
   },
   "file_extension": ".py",
   "mimetype": "text/x-python",
   "name": "python",
   "nbconvert_exporter": "python",
   "pygments_lexer": "ipython3",
   "version": "3.12.0"
  }
 },
 "nbformat": 4,
 "nbformat_minor": 2
}
